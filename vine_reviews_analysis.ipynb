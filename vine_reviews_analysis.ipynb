{
  "nbformat": 4,
  "nbformat_minor": 0,
  "metadata": {
    "colab": {
      "name": "vine_reviews_analysis.ipynb",
      "provenance": []
    },
    "kernelspec": {
      "name": "python3",
      "display_name": "Python 3"
    },
    "language_info": {
      "name": "python"
    }
  },
  "cells": [
    {
      "cell_type": "code",
      "execution_count": 1,
      "metadata": {
        "colab": {
          "base_uri": "https://localhost:8080/"
        },
        "id": "8WyQsyFe8j7S",
        "outputId": "8207e2e4-aa63-4e10-c125-aa3fb8728137"
      },
      "outputs": [
        {
          "output_type": "stream",
          "name": "stdout",
          "text": [
            "\r0% [Working]\r            \rGet:1 https://cloud.r-project.org/bin/linux/ubuntu bionic-cran40/ InRelease [3,626 B]\n",
            "Get:2 https://developer.download.nvidia.com/compute/cuda/repos/ubuntu1804/x86_64  InRelease [1,581 B]\n",
            "Get:3 http://security.ubuntu.com/ubuntu bionic-security InRelease [88.7 kB]\n",
            "Get:4 http://ppa.launchpad.net/c2d4u.team/c2d4u4.0+/ubuntu bionic InRelease [15.9 kB]\n",
            "Hit:5 http://archive.ubuntu.com/ubuntu bionic InRelease\n",
            "Ign:6 https://developer.download.nvidia.com/compute/machine-learning/repos/ubuntu1804/x86_64  InRelease\n",
            "Hit:7 https://developer.download.nvidia.com/compute/machine-learning/repos/ubuntu1804/x86_64  Release\n",
            "Get:8 http://archive.ubuntu.com/ubuntu bionic-updates InRelease [88.7 kB]\n",
            "Hit:9 http://ppa.launchpad.net/cran/libgit2/ubuntu bionic InRelease\n",
            "Get:10 http://archive.ubuntu.com/ubuntu bionic-backports InRelease [74.6 kB]\n",
            "Get:11 http://ppa.launchpad.net/deadsnakes/ppa/ubuntu bionic InRelease [15.9 kB]\n",
            "Get:12 https://developer.download.nvidia.com/compute/cuda/repos/ubuntu1804/x86_64  Packages [806 kB]\n",
            "Get:13 http://ppa.launchpad.net/graphics-drivers/ppa/ubuntu bionic InRelease [21.3 kB]\n",
            "Get:14 http://ppa.launchpad.net/c2d4u.team/c2d4u4.0+/ubuntu bionic/main Sources [1,992 kB]\n",
            "Get:16 http://ppa.launchpad.net/c2d4u.team/c2d4u4.0+/ubuntu bionic/main amd64 Packages [1,021 kB]\n",
            "Get:17 http://security.ubuntu.com/ubuntu bionic-security/main amd64 Packages [2,799 kB]\n",
            "Get:18 http://security.ubuntu.com/ubuntu bionic-security/universe amd64 Packages [1,512 kB]\n",
            "Get:19 http://security.ubuntu.com/ubuntu bionic-security/restricted amd64 Packages [957 kB]\n",
            "Get:20 http://archive.ubuntu.com/ubuntu bionic-updates/main amd64 Packages [3,258 kB]\n",
            "Get:21 http://archive.ubuntu.com/ubuntu bionic-updates/restricted amd64 Packages [1,014 kB]\n",
            "Get:22 http://ppa.launchpad.net/deadsnakes/ppa/ubuntu bionic/main amd64 Packages [45.3 kB]\n",
            "Get:23 http://archive.ubuntu.com/ubuntu bionic-updates/universe amd64 Packages [2,289 kB]\n",
            "Get:24 http://ppa.launchpad.net/graphics-drivers/ppa/ubuntu bionic/main amd64 Packages [47.7 kB]\n",
            "Fetched 16.1 MB in 5s (3,015 kB/s)\n",
            "Reading package lists... Done\n"
          ]
        }
      ],
      "source": [
        "import os\n",
        "# Find the latest version of spark 3.0 from http://www.apache.org/dist/spark/ and enter as the spark version\n",
        "# For example:\n",
        "# spark_version = 'spark-3.0.3'\n",
        "spark_version = 'spark-3.0.3'\n",
        "os.environ['SPARK_VERSION']=spark_version\n",
        "\n",
        "# Install Spark and Java\n",
        "!apt-get update\n",
        "!apt-get install openjdk-11-jdk-headless -qq > /dev/null\n",
        "!wget -q http://www.apache.org/dist/spark/$SPARK_VERSION/$SPARK_VERSION-bin-hadoop2.7.tgz\n",
        "!tar xf $SPARK_VERSION-bin-hadoop2.7.tgz\n",
        "!pip install -q findspark\n",
        "\n",
        "# Set Environment Variables\n",
        "import os\n",
        "os.environ[\"JAVA_HOME\"] = \"/usr/lib/jvm/java-11-openjdk-amd64\"\n",
        "os.environ[\"SPARK_HOME\"] = f\"/content/{spark_version}-bin-hadoop2.7\"\n",
        "\n",
        "# Start a SparkSession\n",
        "import findspark\n",
        "findspark.init()"
      ]
    },
    {
      "cell_type": "code",
      "source": [
        "# Download the Postgres driver that will allow Spark to interact with Postgres.\n",
        "!wget https://jdbc.postgresql.org/download/postgresql-42.2.16.jar"
      ],
      "metadata": {
        "colab": {
          "base_uri": "https://localhost:8080/"
        },
        "id": "rY-gU_wJ8rzC",
        "outputId": "c8ddb245-9f86-4025-de0d-df646f076470"
      },
      "execution_count": 2,
      "outputs": [
        {
          "output_type": "stream",
          "name": "stdout",
          "text": [
            "--2022-06-08 01:34:50--  https://jdbc.postgresql.org/download/postgresql-42.2.16.jar\n",
            "Resolving jdbc.postgresql.org (jdbc.postgresql.org)... 72.32.157.228, 2001:4800:3e1:1::228\n",
            "Connecting to jdbc.postgresql.org (jdbc.postgresql.org)|72.32.157.228|:443... connected.\n",
            "HTTP request sent, awaiting response... 200 OK\n",
            "Length: 1002883 (979K) [application/java-archive]\n",
            "Saving to: ‘postgresql-42.2.16.jar’\n",
            "\n",
            "postgresql-42.2.16. 100%[===================>] 979.38K  5.68MB/s    in 0.2s    \n",
            "\n",
            "2022-06-08 01:34:51 (5.68 MB/s) - ‘postgresql-42.2.16.jar’ saved [1002883/1002883]\n",
            "\n"
          ]
        }
      ]
    },
    {
      "cell_type": "code",
      "source": [
        "from pyspark.sql import SparkSession\n",
        "spark = SparkSession.builder.appName(\"M16-Amazon-Challenge\").config(\"spark.driver.extraClassPath\",\"/content/postgresql-42.2.16.jar\").getOrCreate()"
      ],
      "metadata": {
        "id": "Et3iL9Vb8uMa"
      },
      "execution_count": 3,
      "outputs": []
    },
    {
      "cell_type": "code",
      "source": [
        "from pyspark import SparkFiles\n",
        "url = \"https://s3.amazonaws.com/amazon-reviews-pds/tsv/amazon_reviews_us_Video_DVD_v1_00.tsv.gz\"\n",
        "spark.sparkContext.addFile(url)\n",
        "df = spark.read.option(\"encoding\", \"UTF-8\").csv(SparkFiles.get(\"amazon_reviews_us_Video_DVD_v1_00.tsv.gz\"), sep=\"\\t\", header=True, inferSchema=True)\n",
        "df.show()"
      ],
      "metadata": {
        "colab": {
          "base_uri": "https://localhost:8080/"
        },
        "id": "_rLuTXwz8uZ7",
        "outputId": "3fb59199-b0ce-493e-b7b4-0be3e2a45bfa"
      },
      "execution_count": 4,
      "outputs": [
        {
          "output_type": "stream",
          "name": "stdout",
          "text": [
            "+-----------+-----------+--------------+----------+--------------+--------------------+----------------+-----------+-------------+-----------+----+-----------------+--------------------+--------------------+-----------+\n",
            "|marketplace|customer_id|     review_id|product_id|product_parent|       product_title|product_category|star_rating|helpful_votes|total_votes|vine|verified_purchase|     review_headline|         review_body|review_date|\n",
            "+-----------+-----------+--------------+----------+--------------+--------------------+----------------+-----------+-------------+-----------+----+-----------------+--------------------+--------------------+-----------+\n",
            "|         US|   27288431| R33UPQQUZQEM8|B005T4ND06|     400024643|Yoga for Movement...|       Video DVD|          5|            3|          3|   N|                Y|This was a gift f...|This was a gift f...| 2015-08-31|\n",
            "|         US|   13722556|R3IKTNQQPD9662|B004EPZ070|     685335564|  Something Borrowed|       Video DVD|          5|            0|          0|   N|                Y|          Five Stars| Teats my heart out.| 2015-08-31|\n",
            "|         US|   20381037|R3U27V5QMCP27T|B005S9EKCW|     922008804|Les Miserables (2...|       Video DVD|          5|            1|          1|   N|                Y|        Great movie!|        Great movie.| 2015-08-31|\n",
            "|         US|   24852644|R2TOH2QKNK4IOC|B00FC1ZCB4|     326560548|Alien Anthology a...|       Video DVD|          5|            0|          1|   N|                Y|             Amazing|My husband was so...| 2015-08-31|\n",
            "|         US|   15556113|R2XQG5NJ59UFMY|B002ZG98Z0|     637495038|  Sex and the City 2|       Video DVD|          5|            0|          0|   N|                Y|          Five Stars|   Love this series.| 2015-08-31|\n",
            "|         US|    6132474|R1N1KHBRR4ZTX3|B00X8RONBO|     896602391|When Calls The He...|       Video DVD|          5|            0|          0|   N|                Y|          Five Stars|            love it!| 2015-08-31|\n",
            "|         US|   48049524|R3OM9S0TCBP38K|B000CEXFZG|     115883890|Teen Titans - The...|       Video DVD|          5|            0|          0|   N|                Y|               Great|Better than the c...| 2015-08-31|\n",
            "|         US|    3282516|R1W4S949ZRCTBW|B00ID8H8EW|     977932459|      Generation War|       Video DVD|          5|            0|          0|   N|                Y|          Five Stars|I really emjoyed ...| 2015-08-31|\n",
            "|         US|   51771179|R18JL1NNQAZFV2|B000TGJ8IU|     840084782|Troy  (Director's...|       Video DVD|          5|            0|          0|   N|                Y|          Five Stars|Awesome movie, we...| 2015-08-31|\n",
            "|         US|   31816501|R1LP6PR06OPYUX|B00DPMPTDS|     262144920|Faith Aka the Gre...|       Video DVD|          4|            0|          0|   N|                Y|a beautiful fanta...|...a beautiful fa...| 2015-08-31|\n",
            "|         US|   16164990| RZKBT035JA0UQ|B00X797LUS|     883589001|   Revenge: Season 4|       Video DVD|          5|            1|          2|   N|                Y|  It's a hit with me|I don't usually w...| 2015-08-31|\n",
            "|         US|   33386989|R253N5W74SM7N3|B00C6MXB42|     734735137|YOUNG INDIANA JON...|       Video DVD|          4|            1|          1|   N|                Y|great stuff. I th...|great stuff.  I t...| 2015-08-31|\n",
            "|         US|   45486371|R2D5IFTFPHD3RN|B000EZ9084|     821764517|     Survival Island|       Video DVD|          4|            1|          1|   N|                Y|          Four Stars|           very good| 2015-08-31|\n",
            "|         US|   14006420|R1CECK3H1URK1G|B000CEXFZG|     115883890|Teen Titans - The...|       Video DVD|          5|            0|          0|   N|                Y|          Five Stars|Kids love the DVD...| 2015-08-31|\n",
            "|         US|   23411619|R11MHQRE45204T|B00KXEM6XM|     651533797|     Fargo: Season 1|       Video DVD|          5|            0|          0|   N|                Y|A wonderful cover...|Great news Fargo ...| 2015-08-31|\n",
            "|         US|    3202332| RSX9F068J0GXJ|B0036K9CM8|     231498541|Disney Parks: The...|       Video DVD|          5|            0|          0|   N|                Y|We love Disney an...|We love Disney an...| 2015-08-31|\n",
            "|         US|   32012808|R1TUMFHZBBOWKL|B00G3HOJZ6|     847624020|Young Detective D...|       Video DVD|          5|            0|          0|   N|                Y|Excellent Movie f...|This is a surpris...| 2015-08-31|\n",
            "|         US|   36507765| R8IZ1G1TWGK0E|B00V5E7YR2|     478422254|The Divergent Ser...|       Video DVD|          5|            0|          0|   N|                Y|          Five Stars|          Good movie| 2015-08-31|\n",
            "|         US|   13696097|R1CBN0585B7BI4|B005BUA1JY|     700104332|Barney Miller: Th...|       Video DVD|          5|            0|          1|   N|                Y|          Five Stars|This show is a cl...| 2015-08-31|\n",
            "|         US|    2190805|R2PJOAZ9I3D8O8|B00YCY46VO|     710263340|Inside Out (Blu-r...|       Video DVD|          5|            2|          2|   N|                N|An Instant Master...|Inside Out revolv...| 2015-08-31|\n",
            "+-----------+-----------+--------------+----------+--------------+--------------------+----------------+-----------+-------------+-----------+----+-----------------+--------------------+--------------------+-----------+\n",
            "only showing top 20 rows\n",
            "\n"
          ]
        }
      ]
    },
    {
      "cell_type": "code",
      "source": [
        "# Create the vine_table. DataFrame\n",
        "vine_df = df.select([\"review_id\", \"star_rating\", \"helpful_votes\", \"total_votes\", \"vine\", \"verified_purchase\"])\n",
        "vine_df.show()"
      ],
      "metadata": {
        "colab": {
          "base_uri": "https://localhost:8080/"
        },
        "id": "KgimbkeH8uh8",
        "outputId": "a5ae3d4d-dff8-48eb-f5d0-4c7d98bb2c97"
      },
      "execution_count": 6,
      "outputs": [
        {
          "output_type": "stream",
          "name": "stdout",
          "text": [
            "+--------------+-----------+-------------+-----------+----+-----------------+\n",
            "|     review_id|star_rating|helpful_votes|total_votes|vine|verified_purchase|\n",
            "+--------------+-----------+-------------+-----------+----+-----------------+\n",
            "| R33UPQQUZQEM8|          5|            3|          3|   N|                Y|\n",
            "|R3IKTNQQPD9662|          5|            0|          0|   N|                Y|\n",
            "|R3U27V5QMCP27T|          5|            1|          1|   N|                Y|\n",
            "|R2TOH2QKNK4IOC|          5|            0|          1|   N|                Y|\n",
            "|R2XQG5NJ59UFMY|          5|            0|          0|   N|                Y|\n",
            "|R1N1KHBRR4ZTX3|          5|            0|          0|   N|                Y|\n",
            "|R3OM9S0TCBP38K|          5|            0|          0|   N|                Y|\n",
            "|R1W4S949ZRCTBW|          5|            0|          0|   N|                Y|\n",
            "|R18JL1NNQAZFV2|          5|            0|          0|   N|                Y|\n",
            "|R1LP6PR06OPYUX|          4|            0|          0|   N|                Y|\n",
            "| RZKBT035JA0UQ|          5|            1|          2|   N|                Y|\n",
            "|R253N5W74SM7N3|          4|            1|          1|   N|                Y|\n",
            "|R2D5IFTFPHD3RN|          4|            1|          1|   N|                Y|\n",
            "|R1CECK3H1URK1G|          5|            0|          0|   N|                Y|\n",
            "|R11MHQRE45204T|          5|            0|          0|   N|                Y|\n",
            "| RSX9F068J0GXJ|          5|            0|          0|   N|                Y|\n",
            "|R1TUMFHZBBOWKL|          5|            0|          0|   N|                Y|\n",
            "| R8IZ1G1TWGK0E|          5|            0|          0|   N|                Y|\n",
            "|R1CBN0585B7BI4|          5|            0|          1|   N|                Y|\n",
            "|R2PJOAZ9I3D8O8|          5|            2|          2|   N|                N|\n",
            "+--------------+-----------+-------------+-----------+----+-----------------+\n",
            "only showing top 20 rows\n",
            "\n"
          ]
        }
      ]
    },
    {
      "cell_type": "code",
      "source": [
        "# Filter the data and create a new DataFrame or table to retrieve all the rows where the total_votes count is equal to or greater than 20\n",
        "# to pick reviews that are more likely to be helpful and to avoid having division by zero errors later on.\n",
        "filtered_votes_df = vine_df.filter(\"total_votes>=20\")\n",
        "filtered_votes_df.show()"
      ],
      "metadata": {
        "colab": {
          "base_uri": "https://localhost:8080/"
        },
        "id": "G99Ys-5s8ukn",
        "outputId": "46ebe8c0-71df-4e41-97a1-eba1c443a2ef"
      },
      "execution_count": 7,
      "outputs": [
        {
          "output_type": "stream",
          "name": "stdout",
          "text": [
            "+--------------+-----------+-------------+-----------+----+-----------------+\n",
            "|     review_id|star_rating|helpful_votes|total_votes|vine|verified_purchase|\n",
            "+--------------+-----------+-------------+-----------+----+-----------------+\n",
            "|R31EUR60FV3BU5|          4|           32|         39|   N|                N|\n",
            "|R12Q1NO1HI9PP4|          1|            4|         86|   N|                N|\n",
            "|R3MDX24QDAT0OW|          4|           35|         37|   N|                N|\n",
            "|R2YVFZB4ESDT7D|          5|          139|        141|   N|                Y|\n",
            "| R6TNONSNFM82I|          1|            0|         28|   N|                Y|\n",
            "|R2R8EWH1JUZCSI|          5|           16|         21|   N|                N|\n",
            "| RUNB838XKMB59|          1|            8|         23|   N|                N|\n",
            "|R3I8GORXGEJL3R|          4|           95|        103|   N|                Y|\n",
            "|R2WFUSIPJ3X0FR|          1|            9|         53|   N|                N|\n",
            "| RONWXF0J85CRR|          5|           42|         50|   N|                N|\n",
            "|R15OUJIUGMTNW7|          1|            1|         33|   N|                N|\n",
            "|R2QQJIJZIUSQBH|          1|           16|         20|   N|                N|\n",
            "| RGWTSZJT5WJ35|          1|            9|         50|   N|                N|\n",
            "|R3O7T74HRIXBE5|          5|           53|         55|   N|                Y|\n",
            "| RSU37FK0W4DPE|          4|           26|         28|   N|                N|\n",
            "|R22H100N6EUD0Y|          5|           30|         32|   N|                Y|\n",
            "| R4VC9LDQGIE5K|          5|           26|         37|   N|                N|\n",
            "| RWMH3PU2EECVA|          5|           35|         38|   N|                Y|\n",
            "|R2XTQWXL65VPOZ|          4|           22|         24|   N|                N|\n",
            "| RGIM9S035SVIA|          4|           38|         44|   N|                N|\n",
            "+--------------+-----------+-------------+-----------+----+-----------------+\n",
            "only showing top 20 rows\n",
            "\n"
          ]
        }
      ]
    },
    {
      "cell_type": "code",
      "source": [
        "# Filter the new DataFrame or table created in Step 1 and create a new DataFrame or table or\n",
        "filtered_reviews_df = filtered_votes_df.filter(\"(helpful_votes/total_votes)>=0.5\")\n",
        "filtered_reviews_df.show()"
      ],
      "metadata": {
        "colab": {
          "base_uri": "https://localhost:8080/"
        },
        "id": "KYHXnMs18unN",
        "outputId": "750bede3-4cc1-4264-a105-fa29f2ed6535"
      },
      "execution_count": 8,
      "outputs": [
        {
          "output_type": "stream",
          "name": "stdout",
          "text": [
            "+--------------+-----------+-------------+-----------+----+-----------------+\n",
            "|     review_id|star_rating|helpful_votes|total_votes|vine|verified_purchase|\n",
            "+--------------+-----------+-------------+-----------+----+-----------------+\n",
            "|R31EUR60FV3BU5|          4|           32|         39|   N|                N|\n",
            "|R3MDX24QDAT0OW|          4|           35|         37|   N|                N|\n",
            "|R2YVFZB4ESDT7D|          5|          139|        141|   N|                Y|\n",
            "|R2R8EWH1JUZCSI|          5|           16|         21|   N|                N|\n",
            "|R3I8GORXGEJL3R|          4|           95|        103|   N|                Y|\n",
            "| RONWXF0J85CRR|          5|           42|         50|   N|                N|\n",
            "|R2QQJIJZIUSQBH|          1|           16|         20|   N|                N|\n",
            "|R3O7T74HRIXBE5|          5|           53|         55|   N|                Y|\n",
            "| RSU37FK0W4DPE|          4|           26|         28|   N|                N|\n",
            "|R22H100N6EUD0Y|          5|           30|         32|   N|                Y|\n",
            "| R4VC9LDQGIE5K|          5|           26|         37|   N|                N|\n",
            "| RWMH3PU2EECVA|          5|           35|         38|   N|                Y|\n",
            "|R2XTQWXL65VPOZ|          4|           22|         24|   N|                N|\n",
            "| RGIM9S035SVIA|          4|           38|         44|   N|                N|\n",
            "|R18ZPPQ2CZKG41|          5|           16|         20|   N|                N|\n",
            "|R2FK3TE1JD2UXM|          5|           40|         44|   N|                N|\n",
            "|R22X6BZQKZA30V|          1|           29|         34|   N|                Y|\n",
            "| RS3V339OCGT2D|          5|           84|         97|   N|                N|\n",
            "| RCZ5IXAQ4J4NQ|          5|           22|         36|   N|                N|\n",
            "| ROS0GMA6IUSCP|          5|           34|         36|   N|                N|\n",
            "+--------------+-----------+-------------+-----------+----+-----------------+\n",
            "only showing top 20 rows\n",
            "\n"
          ]
        }
      ]
    },
    {
      "cell_type": "code",
      "source": [
        "# Filter the DataFrame or table created in Step 2, and create a new DataFrame or table that\n",
        "# retrieves all the rows where a review was written as part of the Vine program (paid), vine == 'Y'.\n",
        "filtered_paid_reviews_df = filtered_reviews_df.filter(\"vine=='Y'\")\n",
        "filtered_paid_reviews_df.show()\n"
      ],
      "metadata": {
        "colab": {
          "base_uri": "https://localhost:8080/"
        },
        "id": "ZuX4ljnG88lS",
        "outputId": "cf3eaf88-54c8-40e5-d42e-ead0b98d355c"
      },
      "execution_count": 9,
      "outputs": [
        {
          "output_type": "stream",
          "name": "stdout",
          "text": [
            "+--------------+-----------+-------------+-----------+----+-----------------+\n",
            "|     review_id|star_rating|helpful_votes|total_votes|vine|verified_purchase|\n",
            "+--------------+-----------+-------------+-----------+----+-----------------+\n",
            "|R3PBQ665MBL8CP|          3|           66|         72|   Y|                N|\n",
            "|R3EMD30K7MNOZ0|          2|           20|         25|   Y|                N|\n",
            "|R2GF3ZLO2B0Y71|          5|          236|        243|   Y|                N|\n",
            "|R1F8T2Z7U3N6HL|          3|           11|         20|   Y|                N|\n",
            "| R5QTOT1GVR8RG|          4|           16|         20|   Y|                N|\n",
            "|R1KAQEESF0NUGV|          4|           27|         29|   Y|                N|\n",
            "|R1621B9AMVWI25|          2|           27|         29|   Y|                N|\n",
            "|R3FVGQVNBAZL8E|          3|           37|         44|   Y|                N|\n",
            "|R26ATTA765WHVX|          5|           21|         23|   Y|                N|\n",
            "| RMZYPFKES1ZK7|          4|           29|         33|   Y|                N|\n",
            "|R14DF0WKENBB1W|          4|           18|         21|   Y|                N|\n",
            "| RP8XXEUSRVK9W|          3|           18|         22|   Y|                N|\n",
            "|R385PHNA6E3GNZ|          5|           32|         43|   Y|                Y|\n",
            "|R3EF1FW33JGPV0|          1|           24|         30|   Y|                N|\n",
            "|R1QFLL874C1LYW|          1|           15|         27|   Y|                N|\n",
            "|R3K1A9MD4PVRH4|          2|           26|         37|   Y|                N|\n",
            "| RL6DMOWQJ56DX|          3|           19|         27|   Y|                N|\n",
            "|R2WDJTCP0CO4OF|          4|           26|         28|   Y|                N|\n",
            "| R9XFFVNYHTDOC|          3|          355|        404|   Y|                N|\n",
            "|R1ZMSEURPMYSEB|          4|           18|         20|   Y|                N|\n",
            "+--------------+-----------+-------------+-----------+----+-----------------+\n",
            "only showing top 20 rows\n",
            "\n"
          ]
        }
      ]
    },
    {
      "cell_type": "code",
      "source": [
        "# Repeat Step 3, but this time retrieve all the rows where the review was not part of the Vine program (unpaid), vine == 'N'.\n",
        "filtered_unpaid_reviews_df = filtered_reviews_df.filter(\"vine == 'N'\")\n",
        "filtered_unpaid_reviews_df.show()"
      ],
      "metadata": {
        "colab": {
          "base_uri": "https://localhost:8080/"
        },
        "id": "2l8ihTfB88q9",
        "outputId": "5c7e2954-e3bf-48b9-da08-5ea9e3b3f0e8"
      },
      "execution_count": 10,
      "outputs": [
        {
          "output_type": "stream",
          "name": "stdout",
          "text": [
            "+--------------+-----------+-------------+-----------+----+-----------------+\n",
            "|     review_id|star_rating|helpful_votes|total_votes|vine|verified_purchase|\n",
            "+--------------+-----------+-------------+-----------+----+-----------------+\n",
            "|R31EUR60FV3BU5|          4|           32|         39|   N|                N|\n",
            "|R3MDX24QDAT0OW|          4|           35|         37|   N|                N|\n",
            "|R2YVFZB4ESDT7D|          5|          139|        141|   N|                Y|\n",
            "|R2R8EWH1JUZCSI|          5|           16|         21|   N|                N|\n",
            "|R3I8GORXGEJL3R|          4|           95|        103|   N|                Y|\n",
            "| RONWXF0J85CRR|          5|           42|         50|   N|                N|\n",
            "|R2QQJIJZIUSQBH|          1|           16|         20|   N|                N|\n",
            "|R3O7T74HRIXBE5|          5|           53|         55|   N|                Y|\n",
            "| RSU37FK0W4DPE|          4|           26|         28|   N|                N|\n",
            "|R22H100N6EUD0Y|          5|           30|         32|   N|                Y|\n",
            "| R4VC9LDQGIE5K|          5|           26|         37|   N|                N|\n",
            "| RWMH3PU2EECVA|          5|           35|         38|   N|                Y|\n",
            "|R2XTQWXL65VPOZ|          4|           22|         24|   N|                N|\n",
            "| RGIM9S035SVIA|          4|           38|         44|   N|                N|\n",
            "|R18ZPPQ2CZKG41|          5|           16|         20|   N|                N|\n",
            "|R2FK3TE1JD2UXM|          5|           40|         44|   N|                N|\n",
            "|R22X6BZQKZA30V|          1|           29|         34|   N|                Y|\n",
            "| RS3V339OCGT2D|          5|           84|         97|   N|                N|\n",
            "| RCZ5IXAQ4J4NQ|          5|           22|         36|   N|                N|\n",
            "| ROS0GMA6IUSCP|          5|           34|         36|   N|                N|\n",
            "+--------------+-----------+-------------+-----------+----+-----------------+\n",
            "only showing top 20 rows\n",
            "\n"
          ]
        }
      ]
    },
    {
      "cell_type": "code",
      "source": [
        "# Determine the total number of reviews, the number of 5-star reviews, and the percentage of 5-star reviews for the two types of review (paid vs unpaid).\n",
        "total_filtered_reviews = filtered_reviews_df.count()\n",
        "total_filtered_reviews"
      ],
      "metadata": {
        "colab": {
          "base_uri": "https://localhost:8080/"
        },
        "id": "ZLTMc6fS9Erd",
        "outputId": "53b6d497-5816-4831-92d3-2ee5654d924a"
      },
      "execution_count": 11,
      "outputs": [
        {
          "output_type": "execute_result",
          "data": {
            "text/plain": [
              "151449"
            ]
          },
          "metadata": {},
          "execution_count": 11
        }
      ]
    },
    {
      "cell_type": "code",
      "source": [
        "total_filtered_paid_reviews = filtered_paid_reviews_df.count()\n",
        "total_filtered_paid_reviews"
      ],
      "metadata": {
        "colab": {
          "base_uri": "https://localhost:8080/"
        },
        "id": "BNUKdOfc88vO",
        "outputId": "9e24cc5b-697e-4e1e-98a3-c0cb3ba42898"
      },
      "execution_count": 12,
      "outputs": [
        {
          "output_type": "execute_result",
          "data": {
            "text/plain": [
              "49"
            ]
          },
          "metadata": {},
          "execution_count": 12
        }
      ]
    },
    {
      "cell_type": "code",
      "source": [
        "total_filtered_unpaid_reviews = filtered_unpaid_reviews_df.count()\n",
        "total_filtered_unpaid_reviews"
      ],
      "metadata": {
        "colab": {
          "base_uri": "https://localhost:8080/"
        },
        "id": "I5AS_hHh8uqT",
        "outputId": "8394b5a2-0fb2-42d4-a98e-c33a3ca99c87"
      },
      "execution_count": 13,
      "outputs": [
        {
          "output_type": "execute_result",
          "data": {
            "text/plain": [
              "151400"
            ]
          },
          "metadata": {},
          "execution_count": 13
        }
      ]
    },
    {
      "cell_type": "code",
      "source": [
        "paid_five_star_reviews = filtered_paid_reviews_df.filter(filtered_paid_reviews_df.star_rating==5).count()\n",
        "paid_five_star_reviews"
      ],
      "metadata": {
        "colab": {
          "base_uri": "https://localhost:8080/"
        },
        "id": "m7JgK1lI9TG_",
        "outputId": "8ea4d7a1-6782-4eff-bb2f-76fe4ff695f3"
      },
      "execution_count": 14,
      "outputs": [
        {
          "output_type": "execute_result",
          "data": {
            "text/plain": [
              "9"
            ]
          },
          "metadata": {},
          "execution_count": 14
        }
      ]
    },
    {
      "cell_type": "code",
      "source": [
        "unpaid_five_star_reviews = filtered_unpaid_reviews_df.filter(filtered_unpaid_reviews_df.star_rating==5).count()\n",
        "unpaid_five_star_reviews"
      ],
      "metadata": {
        "colab": {
          "base_uri": "https://localhost:8080/"
        },
        "id": "6KhVMnAT9WgP",
        "outputId": "45106f09-331e-40ce-c453-b4f3174200c6"
      },
      "execution_count": 15,
      "outputs": [
        {
          "output_type": "execute_result",
          "data": {
            "text/plain": [
              "78061"
            ]
          },
          "metadata": {},
          "execution_count": 15
        }
      ]
    },
    {
      "cell_type": "code",
      "source": [
        "total_five_star_reviews = (paid_five_star_reviews + unpaid_five_star_reviews)\n",
        "total_five_star_reviews"
      ],
      "metadata": {
        "colab": {
          "base_uri": "https://localhost:8080/"
        },
        "id": "pMYvioOk9WnO",
        "outputId": "6cbaa682-8094-4a2a-c5e2-397831799386"
      },
      "execution_count": 16,
      "outputs": [
        {
          "output_type": "execute_result",
          "data": {
            "text/plain": [
              "78070"
            ]
          },
          "metadata": {},
          "execution_count": 16
        }
      ]
    },
    {
      "cell_type": "code",
      "source": [
        "paid_five_star_percentage = (paid_five_star_reviews/total_filtered_paid_reviews) * 100\n",
        "paid_five_star_percentage"
      ],
      "metadata": {
        "colab": {
          "base_uri": "https://localhost:8080/"
        },
        "id": "9v8dVjot9aCV",
        "outputId": "13c54930-e817-4047-cb84-513f86225907"
      },
      "execution_count": 17,
      "outputs": [
        {
          "output_type": "execute_result",
          "data": {
            "text/plain": [
              "18.367346938775512"
            ]
          },
          "metadata": {},
          "execution_count": 17
        }
      ]
    },
    {
      "cell_type": "code",
      "source": [
        "unpaid_five_star_percentage = (unpaid_five_star_reviews/total_filtered_unpaid_reviews) * 100\n",
        "unpaid_five_star_percentage\n"
      ],
      "metadata": {
        "colab": {
          "base_uri": "https://localhost:8080/"
        },
        "id": "yUwU9UVp9aMk",
        "outputId": "a4728161-2bef-4512-82a5-ab9b81a1ec94"
      },
      "execution_count": 18,
      "outputs": [
        {
          "output_type": "execute_result",
          "data": {
            "text/plain": [
              "51.55944517833554"
            ]
          },
          "metadata": {},
          "execution_count": 18
        }
      ]
    },
    {
      "cell_type": "code",
      "source": [
        ""
      ],
      "metadata": {
        "id": "ADzJRHYC9Wtg"
      },
      "execution_count": null,
      "outputs": []
    }
  ]
}